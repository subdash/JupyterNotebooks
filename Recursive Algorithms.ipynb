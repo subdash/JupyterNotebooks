{
 "cells": [
  {
   "cell_type": "markdown",
   "id": "5c83d62f",
   "metadata": {},
   "source": [
    "# Recursive Functions and Algorithms in Python"
   ]
  },
  {
   "cell_type": "markdown",
   "id": "04ee6de2",
   "metadata": {},
   "source": [
    "### Here are some implementations of some common functions and algorithms demonstrating recursion. Elegance rather than efficiency was the goal here, inspired by a recent journey into functional programming."
   ]
  },
  {
   "cell_type": "markdown",
   "id": "0e8ba5b9",
   "metadata": {},
   "source": [
    "## Length"
   ]
  },
  {
   "cell_type": "code",
   "execution_count": 51,
   "id": "c9e1d91b",
   "metadata": {},
   "outputs": [
    {
     "data": {
      "text/plain": [
       "5"
      ]
     },
     "execution_count": 51,
     "metadata": {},
     "output_type": "execute_result"
    }
   ],
   "source": [
    "def length(l: list) -> int:\n",
    "    if not l:\n",
    "        return 0\n",
    "    \n",
    "    return 1 + length(l[1:])\n",
    "\n",
    "length([])        # 0\n",
    "length(range(5))  # 5"
   ]
  },
  {
   "cell_type": "markdown",
   "id": "e1c53159",
   "metadata": {},
   "source": [
    "## Sum"
   ]
  },
  {
   "cell_type": "code",
   "execution_count": 52,
   "id": "cb2b2619",
   "metadata": {
    "scrolled": true
   },
   "outputs": [
    {
     "data": {
      "text/plain": [
       "-0.8999999999999999"
      ]
     },
     "execution_count": 52,
     "metadata": {},
     "output_type": "execute_result"
    }
   ],
   "source": [
    "def _sum(nums: list):\n",
    "    if not nums:\n",
    "        return 0\n",
    "\n",
    "    return nums[0] + _sum(nums[1:])\n",
    "\n",
    "_sum([])                  # 0\n",
    "_sum(range(5))            # 10\n",
    "_sum([1, 1.5, -4, 6e-1])  # -0.8999999999999999"
   ]
  },
  {
   "cell_type": "markdown",
   "id": "eac049e7",
   "metadata": {},
   "source": [
    "## Filter"
   ]
  },
  {
   "cell_type": "code",
   "execution_count": 53,
   "id": "279b5727",
   "metadata": {},
   "outputs": [
    {
     "data": {
      "text/plain": [
       "[0, 2, 4, 6, 8]"
      ]
     },
     "execution_count": 53,
     "metadata": {},
     "output_type": "execute_result"
    }
   ],
   "source": [
    "def _filter(pred, col: list) -> list:\n",
    "    if not col:\n",
    "        return []\n",
    "    \n",
    "    if pred(head := col[0]):\n",
    "        return [head] + _filter(pred, col[1:])\n",
    "    \n",
    "    return _filter(pred, col[1:])\n",
    "\n",
    "# Print evens\n",
    "_filter(lambda x: x % 2 == 0, range(9))"
   ]
  },
  {
   "cell_type": "markdown",
   "id": "13c5989f",
   "metadata": {},
   "source": [
    "## Last"
   ]
  },
  {
   "cell_type": "code",
   "execution_count": 54,
   "id": "f0516421",
   "metadata": {},
   "outputs": [
    {
     "data": {
      "text/plain": [
       "4"
      ]
     },
     "execution_count": 54,
     "metadata": {},
     "output_type": "execute_result"
    }
   ],
   "source": [
    "def last(l: list):\n",
    "    if not l:\n",
    "        return None\n",
    "    \n",
    "    if len(l) == 1:\n",
    "        return l[0]\n",
    "    \n",
    "    return last(l[1:])\n",
    "\n",
    "last([])        # None\n",
    "last(range(5))  # 4"
   ]
  },
  {
   "cell_type": "markdown",
   "id": "e6e9e8f0",
   "metadata": {},
   "source": [
    "## Fibonacci"
   ]
  },
  {
   "cell_type": "code",
   "execution_count": 55,
   "id": "de55b8e7",
   "metadata": {},
   "outputs": [
    {
     "data": {
      "text/plain": [
       "[0, 1, 1, 2, 3, 5, 8, 13, 21, 34]"
      ]
     },
     "execution_count": 55,
     "metadata": {},
     "output_type": "execute_result"
    }
   ],
   "source": [
    "def fib(n: int) -> int:\n",
    "    if n < 2:\n",
    "        return n\n",
    "    \n",
    "    return fib(n - 1) + fib(n - 2)\n",
    "\n",
    "[fib(i) for i in range(10)]"
   ]
  },
  {
   "cell_type": "markdown",
   "id": "d5fded73",
   "metadata": {},
   "source": [
    "## Factorial"
   ]
  },
  {
   "cell_type": "code",
   "execution_count": 56,
   "id": "7ec3c689",
   "metadata": {},
   "outputs": [
    {
     "data": {
      "text/plain": [
       "[0, 1, 2, 6, 24, 120]"
      ]
     },
     "execution_count": 56,
     "metadata": {},
     "output_type": "execute_result"
    }
   ],
   "source": [
    "def fact(n: int) -> int:\n",
    "    if n < 2:\n",
    "        return n\n",
    "    \n",
    "    return n * fact(n - 1)\n",
    "\n",
    "[fact(i) for i in range(6)]"
   ]
  },
  {
   "cell_type": "markdown",
   "id": "640e2339",
   "metadata": {},
   "source": [
    "## Range"
   ]
  },
  {
   "cell_type": "code",
   "execution_count": 63,
   "id": "4fed55f8",
   "metadata": {},
   "outputs": [
    {
     "data": {
      "text/plain": [
       "[4, 3, 2, 1, 0, -1]"
      ]
     },
     "execution_count": 63,
     "metadata": {},
     "output_type": "execute_result"
    }
   ],
   "source": [
    "def _range(start: int, end: int) -> list[int]:\n",
    "    if start == end:\n",
    "        return [start]\n",
    "\n",
    "    return [start] + _range(start + (1 if start < end else -1), end)\n",
    "\n",
    "_range(0, 5)\n",
    "_range(4, -1)"
   ]
  }
 ],
 "metadata": {
  "kernelspec": {
   "display_name": "Python 3 (ipykernel)",
   "language": "python",
   "name": "python3"
  },
  "language_info": {
   "codemirror_mode": {
    "name": "ipython",
    "version": 3
   },
   "file_extension": ".py",
   "mimetype": "text/x-python",
   "name": "python",
   "nbconvert_exporter": "python",
   "pygments_lexer": "ipython3",
   "version": "3.9.4"
  }
 },
 "nbformat": 4,
 "nbformat_minor": 5
}
